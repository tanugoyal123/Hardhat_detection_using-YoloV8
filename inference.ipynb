{
 "cells": [
  {
   "cell_type": "code",
   "execution_count": null,
   "metadata": {},
   "outputs": [],
   "source": [
    "from ultralytics import YOLO"
   ]
  },
  {
   "cell_type": "code",
   "execution_count": null,
   "metadata": {},
   "outputs": [
    {
     "name": "stdout",
     "output_type": "stream",
     "text": [
      "Creating new Ultralytics Settings v0.0.6 file  \n",
      "View Ultralytics Settings with 'yolo settings' or at 'C:\\Users\\A\\AppData\\Roaming\\Ultralytics\\settings.json'\n",
      "Update Settings with 'yolo settings key=value', i.e. 'yolo settings runs_dir=path/to/dir'. For help see https://docs.ultralytics.com/quickstart/#ultralytics-settings.\n"
     ]
    }
   ],
   "source": [
    "\n",
    "\n",
    "# Load the trained YOLO model\n",
    "model = YOLO('runs/detect/train/weights/best.pt') "
   ]
  },
  {
   "cell_type": "code",
   "execution_count": null,
   "metadata": {},
   "outputs": [
    {
     "name": "stdout",
     "output_type": "stream",
     "text": [
      "\n",
      "image 1/1 c:\\Users\\A\\Downloads\\YOLO\\000034.jpg: 640x640 1 helmet, 250.0ms\n",
      "Speed: 3.8ms preprocess, 250.0ms inference, 1.1ms postprocess per image at shape (1, 3, 640, 640)\n"
     ]
    },
    {
     "data": {
      "text/plain": [
       "'output.jpg'"
      ]
     },
     "execution_count": 4,
     "metadata": {},
     "output_type": "execute_result"
    }
   ],
   "source": [
    "#testing on a image\n",
    "\n",
    "test_image = '000034.jpg' \n",
    "\n",
    "\n",
    "results = model(test_image)\n",
    "\n",
    "\n",
    "results[0].save(filename=\"output.jpg\")"
   ]
  },
  {
   "cell_type": "code",
   "execution_count": 9,
   "metadata": {},
   "outputs": [
    {
     "name": "stdout",
     "output_type": "stream",
     "text": [
      "Object 1:\n",
      " - Bounding Box: [247.4445037841797, 229.1120147705078, 309.50445556640625, 341.93426513671875]\n",
      " - Label: 0\n",
      " - Confidence Score: 0.8403432369232178\n",
      "\n"
     ]
    }
   ],
   "source": [
    "for result in results:\n",
    "    boxes = result.boxes.xyxy  # Bounding boxes in (x1, y1, x2, y2) format\n",
    "    labels = result.boxes.cls  # Class labels\n",
    "    scores = result.boxes.conf  # Confidence scores\n",
    "\n",
    "    # Print each detected object\n",
    "    for i in range(len(boxes)):\n",
    "        print(f\"Object {i + 1}:\")\n",
    "        print(f\" - Bounding Box: {boxes[i].tolist()}\")\n",
    "        print(f\" - Label: {int(labels[i])}\")  # Class index\n",
    "        print(f\" - Confidence Score: {scores[i].item()}\\n\")"
   ]
  },
  {
   "cell_type": "code",
   "execution_count": null,
   "metadata": {},
   "outputs": [],
   "source": []
  }
 ],
 "metadata": {
  "kernelspec": {
   "display_name": "Python (myenv)",
   "language": "python",
   "name": "myenv"
  },
  "language_info": {
   "codemirror_mode": {
    "name": "ipython",
    "version": 3
   },
   "file_extension": ".py",
   "mimetype": "text/x-python",
   "name": "python",
   "nbconvert_exporter": "python",
   "pygments_lexer": "ipython3",
   "version": "3.11.9"
  }
 },
 "nbformat": 4,
 "nbformat_minor": 2
}
